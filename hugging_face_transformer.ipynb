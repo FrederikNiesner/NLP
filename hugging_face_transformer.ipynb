{
 "cells": [
  {
   "cell_type": "code",
   "execution_count": 14,
   "metadata": {},
   "outputs": [],
   "source": [
    "from transformers import pipeline"
   ]
  },
  {
   "cell_type": "code",
   "execution_count": 15,
   "metadata": {},
   "outputs": [
    {
     "name": "stderr",
     "output_type": "stream",
     "text": [
      "No model was supplied, defaulted to sshleifer/distilbart-cnn-12-6 (https://huggingface.co/sshleifer/distilbart-cnn-12-6)\n"
     ]
    }
   ],
   "source": [
    "# load summarization pipeline\n",
    "summarizer = pipeline('summarization')"
   ]
  },
  {
   "cell_type": "code",
   "execution_count": 16,
   "metadata": {},
   "outputs": [],
   "source": [
    "# add text\n",
    "\n",
    "ARTICLE = \"\"\"\n",
    "Creative Cloud enables customers to create, and includes such well-known products as Photoshop, Illustrator, Lightroom, and Adobe Stock. Machine Learning is a critical part of Adobe’s Creative Cloud offering.\n",
    "\n",
    "Adobe Sensei powers machine learning and artificial intelligence across all Adobe Cloud product lines. It enables thousands of applied researchers, millions of users, and billions of content pieces. The objective is to make machine learning offerings a world-class, leading-edge, differentiating product in Adobe Cloud ecosystem. We match the pace, innovation and excitement of a startup, backed by the resources and infrastructure of Adobe.\n",
    "\n",
    "The Intelligent Services group within Creative Cloud releases the latest Adobe Sensei powered features within flagship products such as Photoshop or Illustrator. Recent popular features such as Neural Filters or Discover Panel have originated and been built by the group.\n",
    "\n",
    "The Opportunity\n",
    "Would you like to work on a blank canvas project that'll help improve the experience of creating content for millions of Adobe customers? We’re building a new team and you’ll get to drive significant portions of the technical roadmap by getting in early. This is a unique opportunity that combines the ability to build exciting, new user experiences for Adobe's customers, with the opportunity to work with large-scale machine learning.\n",
    "The Intelligent Services group’s latest mission is to build the Creative Copilot, an intelligent assistant that will help Adobe customers create original, high quality content. Creative Copilot is a system using transformers to assist creators with their workflows by providing a variety of next step recommendations. Building on earlier work on the creative assistant and latest advances in transformer technology (e.g. the Github copilot), the group is currently training machine learning models on large-scale data sets from Adobe applications & assets. The goal is to ultimately have the copilot present high-quality visual recommendations unobtrusively within Adobe applications.\n",
    "To make this mission a reality, we’re looking for applied ML scientists that train transformer & recommender models on the various asset and behavioral data sets at scale. This role will involve thinking hard about recommendation quality, the role of machine learning in those products, and new ways to evaluate recommendations at scale.\n",
    "\n",
    "What you'll do :\n",
    "Collaborate with a team of ML Scientists, Engineers and Product Managers to build recommendation systems for creative tools and content\n",
    "Survey and understand prior literature to evaluate and recommend the best approaches for solving the problems at hand\n",
    "Design and implement algorithms that will power suggestions of layouts, fonts, color palettes, templates, tools and more in Adobe applications on desktop, web and mobile.\n",
    "Use the models and infrastructure from Adobe Research and Sensei to enable efficient reuse of technology across the company\n",
    "Write production quality code that scales for several million monthly users by maintaining a high bar for testing and productizing new algorithms\n",
    "Design NLP algorithms and build transformers & recommendation models from large scale data\n",
    "Train, evaluate and deploy large scale ML models on a regular basis\n",
    "\n",
    "What you'll need to succeed :\n",
    "MS or PhD (preferred) in a technical field (Computer Science, Physics, Math, Statistics)\n",
    "Demonstrable experience in a data science/analytics role\n",
    "Consistent track record of training and deploying machine learning models in products, with a focus on deep learning models and recommender systems\n",
    "Familiarity with the latest developments in transformers (GPT, hugging face transformer models) & applications\n",
    "Familiarity with NLP\n",
    "Familiarity with recommender systems, including NVIDIA Merlin or Transformers4Rec\n",
    "Coding expertise in one or more of Pytorch, Jax, Keras, Tensorflow\n",
    "Strong analytical and quantitative problem-solving ability\n",
    "Excellent oral and written communication skills\n",
    "\"\"\""
   ]
  },
  {
   "cell_type": "code",
   "execution_count": 17,
   "metadata": {},
   "outputs": [
    {
     "data": {
      "text/plain": [
       "[{'summary_text': ' Machine Learning is a critical part of Adobe’s Creative Cloud offering . The team is building a new team and you’ll get to drive significant portions of the technical roadmap by getting in early . The goal is to build the Creative Copilot, an intelligent assistant that will help Adobe customers create original, high quality content .'}]"
      ]
     },
     "execution_count": 17,
     "metadata": {},
     "output_type": "execute_result"
    }
   ],
   "source": [
    "# summarizer pipeline\n",
    "summarizer(ARTICLE, max_length=130, min_length=30, do_sample=False)"
   ]
  },
  {
   "cell_type": "code",
   "execution_count": 20,
   "metadata": {},
   "outputs": [],
   "source": [
    "ARTICLE = \"\"\"\n",
    "At Google, data drives all of our decision-making. Quantitative Analysts work all across the organization to help shape Google's business and technical strategies by processing, analyzing and interpreting huge data sets. Using analytical excellence and statistical methods, you mine through data to identify opportunities for Google and our clients to operate more efficiently, from enhancing advertising efficacy to network infrastructure optimization to studying user behavior. As an analyst, you do more than just crunch the numbers. You work with Engineers, Product Managers, Sales Associates and Marketing teams to adjust Google's practices according to your findings. Identifying the problem is only half the job; you also figure out the solution.\n",
    "\n",
    "Through your professional expertise and judgment, you work on multiple projects concurrently, developing analyses, models and methods to support and verify the impact of your recommendations. You share your expertise by consulting on projects, serving on committees and mentoring team members.\n",
    "\n",
    "As a Data Scientist you'll be working closely with engineers on complex experiments and try to make sense of the ocean of metrics such experiments often produce. You'll help push the limits of experiment design, causal inference, and time-series analysis while working side by side with software engineers and product managers to understand business-critical launches. Ads Metrics is our core analysis organization in Search Ads. We develop new evaluation metrics and analysis methods in Ads. Successful experiments often help launch changes at a massive, global scale, while providing excellent user quality and advertiser value.\n",
    "\n",
    "Users come first at Google. Nowhere is this more important than on our Advertising and Commerce team: we believe that ads and commercial information can be highly useful to our users if that information is relevant to what our users wish to find or do. Advertisers worldwide use Google Ads to promote their products; publishers use AdSense to serve relevant ads on their website; and business around the world use our products (like Google Shopping, and Google Wallet) to support their online businesses and bring users into their offline stores. We are constantly innovating to deliver the most effective advertising and commerce opportunities of tomorrow.\"\"\""
   ]
  },
  {
   "cell_type": "code",
   "execution_count": 21,
   "metadata": {},
   "outputs": [
    {
     "data": {
      "text/plain": [
       "[{'summary_text': \" Quantitative Analysts work all across the organization to help shape Google's business and technical strategies by processing, analyzing and interpreting huge data sets . You mine through data to identify opportunities for Google and our clients to operate more efficiently .\"}]"
      ]
     },
     "execution_count": 21,
     "metadata": {},
     "output_type": "execute_result"
    }
   ],
   "source": [
    "summarizer(ARTICLE, max_length=130, min_length=30, do_sample=False)"
   ]
  },
  {
   "cell_type": "code",
   "execution_count": 22,
   "metadata": {},
   "outputs": [],
   "source": [
    "ARTICLE = \"\"\"\n",
    "Collaborate with cross-functional stakeholders to understand their business needs, formulate and complete end-to-end analysis (data gathering, analysis, scaled deliverables), and share results and recommendations with stakeholders.\n",
    "Contribute to a wide variety of research projects using statistical analysis and modeling.\n",
    "Work with engineering collaborators to translate business questions into analytical solutions (e.g. pipelines/dashboards for analytics and/or Machine Learning models/algorithms for serving).\n",
    "Define and evaluate experiments within the team and across Google with collaborators.\n",
    "Develop and automate reports, iteratively build and prototype dashboards to provide insights at scale, solving for analytical needs.\n",
    "\"\"\""
   ]
  },
  {
   "cell_type": "code",
   "execution_count": 23,
   "metadata": {},
   "outputs": [
    {
     "data": {
      "text/plain": [
       "[{'summary_text': ' Work with engineering collaborators to translate business questions into solutions . Develop and automate reports, build and prototype reports to provide insights at scale, solving for needs .'}]"
      ]
     },
     "execution_count": 23,
     "metadata": {},
     "output_type": "execute_result"
    }
   ],
   "source": [
    "summarizer(ARTICLE, max_length=130, min_length=30, do_sample=False)"
   ]
  },
  {
   "cell_type": "code",
   "execution_count": 24,
   "metadata": {},
   "outputs": [],
   "source": [
    "ARTICLE = \"\"\"\n",
    "As a Quantitative Analyst, you will be responsible for analyzing large data sets and building expert systems that improve our understanding of the Web and improve the performance of our products. This effort includes performing complex statistical analysis on non-routine problems and working with engineers to embed models into production systems. You will manage fast changing business priorities and interface with product managers and engineers.\n",
    "\n",
    "As a data scientist you will evaluate and improve the data sets and pipelines that power our projects. You will bring scientific accuracy and statistical methods to the challenges of data quality, insights, and system performance.\n",
    "\n",
    "You will be focused on analyzing diversity and inclusion trends in advertising content in order to help foster equitable representation of all audiences.\n",
    "\n",
    "You will be expected to use machine learning and AI tools to help advance projects. You will prototype and build data pipelines iteratively to provide insights at scale that will be shared through external tools and reports as well as internal dashboards. You will develop comprehensive knowledge of Google systems and data, advocating for changes where needed for product development. You will be gathering data and system requirements, processing large data sets, performing ongoing analysis, and making presentations.\n",
    "\n",
    "Know the user. Know the magic. Connect the two. At its core, marketing at Google starts with technology and ends with the user, bringing both together in unconventional ways. Our job is to demonstrate how Google's products solve the world's problems--from the everyday to the epic, from the mundane to the monumental. And we approach marketing in a way that only Google can--changing the game, redefining the medium, making the user the priority, and ultimately, letting the technology speak for itself.\"\"\""
   ]
  },
  {
   "cell_type": "code",
   "execution_count": 25,
   "metadata": {},
   "outputs": [
    {
     "data": {
      "text/plain": [
       "[{'summary_text': ' As a Quantitative Analyst, you will be responsible for analyzing large data sets and building expert systems that improve our understanding of the Web . This effort includes performing complex statistical analysis on non-routine problems .'}]"
      ]
     },
     "execution_count": 25,
     "metadata": {},
     "output_type": "execute_result"
    }
   ],
   "source": [
    "summarizer(ARTICLE, max_length=130, min_length=30, do_sample=False)"
   ]
  },
  {
   "cell_type": "code",
   "execution_count": 26,
   "metadata": {},
   "outputs": [],
   "source": [
    "responsibilites = \"\"\"\n",
    "Solve difficult, non-routine analysis problems, applying advanced analytical methods and mathematical models as needed.\n",
    "Integrate additional data sources into existing data sets and perform new, impactful calculations.\n",
    "Develop and maintain production implementations and use them to analyze large, complex data sets with comprehensive understanding of Google data structures and metrics.\n",
    "Create and track metrics describing the quality of data produced by pipelines. Proactively identify quality issues, ensure they are visible to the appropriate stakeholders, and drive the resolution process.\n",
    "Prioritize requests and work well in an environment with competing demands from multiple stakeholders.\"\"\""
   ]
  },
  {
   "cell_type": "code",
   "execution_count": 29,
   "metadata": {},
   "outputs": [
    {
     "data": {
      "text/plain": [
       "[{'summary_text': ' Proactively identify quality issues, ensure they are visible to the appropriate stakeholders . Create and track metrics describing the quality of data produced by pipelines . Integrate additional data sources into existing data sets and perform new calculations .'}]"
      ]
     },
     "execution_count": 29,
     "metadata": {},
     "output_type": "execute_result"
    }
   ],
   "source": [
    "summarizer(responsibilites, max_length=50, min_length=30, do_sample=False)"
   ]
  },
  {
   "cell_type": "code",
   "execution_count": null,
   "metadata": {},
   "outputs": [],
   "source": []
  }
 ],
 "metadata": {
  "interpreter": {
   "hash": "a481908efc976352568051b9ddcf43a247bdd059f95919b3c0880bc73d24bc6f"
  },
  "kernelspec": {
   "display_name": "Python 3.8.5 64-bit ('3.8.5': pyenv)",
   "name": "python3"
  },
  "language_info": {
   "codemirror_mode": {
    "name": "ipython",
    "version": 3
   },
   "file_extension": ".py",
   "mimetype": "text/x-python",
   "name": "python",
   "nbconvert_exporter": "python",
   "pygments_lexer": "ipython3",
   "version": "3.8.5"
  },
  "orig_nbformat": 4
 },
 "nbformat": 4,
 "nbformat_minor": 2
}
